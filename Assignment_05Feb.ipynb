{
 "cells": [
  {
   "cell_type": "code",
   "execution_count": 4,
   "id": "4c89e227-4b26-4896-833a-fe9e63ce023f",
   "metadata": {},
   "outputs": [
    {
     "name": "stdout",
     "output_type": "stream",
     "text": [
      "Hii Mohit, Good Afternoon!!\n"
     ]
    }
   ],
   "source": [
    "# Q1. Explain Class and Object with respect to Object-Oriented Programming. Give a suitable example.\n",
    "\n",
    "## Class is a blueprint or template for creating objects. Class used to build a user defined data types which is used in specific modules\n",
    "## to obtain code resusability, organized code structure. Where as Object is an instance of class. Class can be only used\n",
    "## when we create an object. Object can access class variables and methods.\n",
    "\n",
    "class MyClass:\n",
    "    \n",
    "    def __init__(self,a,msg):\n",
    "        self.name = a\n",
    "        self.msg = msg\n",
    "    \n",
    "    def greet(self):\n",
    "        return f\"Hii {self.name}, {self.msg}!!\"\n",
    "\n",
    "obj1 = MyClass(\"Mohit\", \"Good Afternoon\")\n",
    "print(obj1.greet())"
   ]
  },
  {
   "cell_type": "code",
   "execution_count": 5,
   "id": "4bc3e651-0170-4cca-8690-db6206323c91",
   "metadata": {},
   "outputs": [],
   "source": [
    "# Q2. Name the four pillars of OOPs\n",
    "\n",
    "## Main four pillars of OOPs are,\n",
    "## 1. Inheritance\n",
    "## 2. Polymorphism\n",
    "## 3. Encapsulation\n",
    "## 4. Abstraction"
   ]
  },
  {
   "cell_type": "code",
   "execution_count": 7,
   "id": "1739d6bb-f3b2-484d-9f73-174499f895fa",
   "metadata": {},
   "outputs": [
    {
     "name": "stdout",
     "output_type": "stream",
     "text": [
      "Constructor Executed\n"
     ]
    }
   ],
   "source": [
    "# Q3. Explain why the __init__() function is used. Give a suitable example.\n",
    "\n",
    "## __init__ function is used to initiate instance variables. Whenever an object is made __init__ method will automatically\n",
    "## execute. So, generally __init__ method also contains configyration code for an application like code to connect with\n",
    "## database or internet etc. It is also known as constructor. Mainly there are Three types of constructor. Default,\n",
    "## parameterized and non-parameterized.\n",
    "\n",
    "class MyClass1:\n",
    "    \n",
    "    def __init__(self):\n",
    "        print(\"Constructor Executed\")\n",
    "        \n",
    "obj = MyClass1()\n",
    "##Here whenever we make an obj of MyClass1 it will print \"Constructor Executed\"."
   ]
  },
  {
   "cell_type": "code",
   "execution_count": 8,
   "id": "b087c734-d811-42d1-a57c-6bb4fb70d87d",
   "metadata": {},
   "outputs": [],
   "source": [
    "# Q4. Why self is used in OOPs?\n",
    "\n",
    "## self is a memory referance of an object. When we create obj, it's memory referance automatically passed as self.\n",
    "## And whatever instance variables or method we defined in class copy of that variavbles and method made in that\n",
    "## memory created for that obj via self. self is a variable genrally we use as convantion, it is not a keyword we can\n",
    "## write whatever we want instead of self. So, basically self contains memory referance of an objects."
   ]
  },
  {
   "cell_type": "code",
   "execution_count": 17,
   "id": "b7865d08-4c8b-4bf1-acaa-9e4f0bbd0d7c",
   "metadata": {},
   "outputs": [],
   "source": [
    "# Q5. What is inheritance? Give an example for each type of inheritance.\n",
    "\n",
    "## Inheritance is a one of the pillar of OOPs. Inheritance is obtained from real world. It means to inherite something.\n",
    "## Like son inherites genes or property from his parent. It is used in code resuability. We inherite a class from another \n",
    "## class. Inherited class is known as child class and from where it is inherited is known as parent class. Child class can \n",
    "## access all non private methods and attributes of parent class. If a method or attributes with same name present in child\n",
    "## class and parent class child class will execute its own method or attributes. To use parents class's method  or attributes\n",
    "## super() function is used. Where as parent can not access child class's mehtods or attributes. To inherite class we use \n",
    "## like this. \"class ChildClassName(ParentClassName): \"\n",
    "\n",
    "## There are 5 types of inheritance.\n",
    "## 1. Single level inheritance\n",
    "## 2. Multi level inheritance\n",
    "## 3. Multiple level inheritance\n",
    "## 4. Hierarchical inheritance\n",
    "## 5. Hybrid inheritance\n",
    "\n",
    "## 1. Single level inheritance\n",
    "class Parent1:\n",
    "    pass\n",
    "\n",
    "class Child1(Parent1):\n",
    "    pass\n",
    "\n",
    "## It is an example of a single level inheritance. Here only one child class is inherited from only one parent class. \n",
    "\n",
    "\n",
    "## 2. Multi level inheritance\n",
    "class GrandParent2:\n",
    "    pass\n",
    "\n",
    "class Parent2(GrandParent2):\n",
    "    pass\n",
    "\n",
    "class Child2(Parent2):\n",
    "    pass\n",
    "\n",
    "## Here Parent2 class is inherited from GrandParent2 class and Child2 class is inherited from Parent2 class. Parent2\n",
    "## class can access GrandParent2 class's methods and attributes and child2 class can access both Parent2 and GrandParent2\n",
    "## class's method and attributes. While GrandParent2 class can only access its own.\n",
    "\n",
    "\n",
    "## 3. Multiple level inheritance\n",
    "class Mom:\n",
    "    pass\n",
    "\n",
    "class Dad:\n",
    "    pass\n",
    "\n",
    "class Child(Mom, Dad):\n",
    "    pass\n",
    "\n",
    "## Here child class is inherited from two classes, Mom and Dad so it can access both class's method and attributes.\n",
    "## But Mom or Dad class can only access their own method and attributes. Here we can also use more than two class\n",
    "## for child class. Here order of priority is left to right i.e. if child class does not have constructor so it will\n",
    "## fist call Mom class's constructor, if Mom class also don't have constructor child will execute Dad class's constructor.\n",
    "## Here we can use super() method to access both class properties.\n",
    "\n",
    "\n",
    "## 4. Hierarchical inheritance\n",
    "class Parent:\n",
    "    pass\n",
    "\n",
    "class Child3(Parent):\n",
    "    pass\n",
    "\n",
    "class Child4(Parent):\n",
    "    pass\n",
    "\n",
    "## Here two class child3 and child4 are inherited from one parent class. So both they can access parent class's properties\n",
    "## but they can not acces each other's properties or parent class con not access child3 or child4's properties.\n",
    "\n",
    "\n",
    "## 5. Hybrid inheritance\n",
    "class A:\n",
    "    pass\n",
    "\n",
    "class B(A):\n",
    "    pass\n",
    "\n",
    "class C(A):\n",
    "    pass\n",
    "\n",
    "class D(B, C):\n",
    "    pass\n",
    "\n",
    "class E(D):\n",
    "    pass\n",
    "\n",
    "## In Hybrid inheritance there will be a combination of all other four inheritance are present.\n",
    "## It is an example of hybrid inheritance where B and C class are inherited from A class. D class inherited from both B and\n",
    "## C class. And E class is inherited from D class."
   ]
  },
  {
   "cell_type": "code",
   "execution_count": null,
   "id": "01ccfcae-1c6d-4249-8f56-f3b7b6a0120f",
   "metadata": {},
   "outputs": [],
   "source": []
  },
  {
   "cell_type": "code",
   "execution_count": null,
   "id": "16342f0b-ad5f-4882-8681-6a8caf052970",
   "metadata": {},
   "outputs": [],
   "source": []
  }
 ],
 "metadata": {
  "kernelspec": {
   "display_name": "Python 3 (ipykernel)",
   "language": "python",
   "name": "python3"
  },
  "language_info": {
   "codemirror_mode": {
    "name": "ipython",
    "version": 3
   },
   "file_extension": ".py",
   "mimetype": "text/x-python",
   "name": "python",
   "nbconvert_exporter": "python",
   "pygments_lexer": "ipython3",
   "version": "3.10.8"
  }
 },
 "nbformat": 4,
 "nbformat_minor": 5
}
